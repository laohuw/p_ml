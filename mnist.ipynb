{
 "cells": [
  {
   "cell_type": "code",
   "execution_count": 31,
   "metadata": {},
   "outputs": [
    {
     "name": "stderr",
     "output_type": "stream",
     "text": [
      "/home/hd/.local/lib/python3.6/site-packages/sklearn/linear_model/stochastic_gradient.py:166: FutureWarning: max_iter and tol parameters have been added in SGDClassifier in 0.19. If both are left unset, they default to max_iter=5 and tol=None. If tol is not None, max_iter defaults to max_iter=1000. From 0.21, default max_iter will be 1000, and default tol will be 1e-3.\n",
      "  FutureWarning)\n"
     ]
    },
    {
     "data": {
      "text/plain": [
       "array([[32,  0,  0,  0,  0,  2,  0,  0,  0,  0],\n",
       "       [ 0, 28,  0,  0,  0,  1,  0,  0,  0,  0],\n",
       "       [ 0,  0, 31,  0,  0,  0,  0,  0,  0,  0],\n",
       "       [ 0,  0,  0, 44,  0,  1,  0,  0,  0,  0],\n",
       "       [ 0,  0,  0,  0, 32,  0,  0,  0,  0,  0],\n",
       "       [ 0,  0,  0,  0,  0, 34,  0,  0,  0,  0],\n",
       "       [ 0,  1,  0,  0,  0,  0, 40,  0,  0,  0],\n",
       "       [ 0,  0,  3,  0,  1,  0,  0, 39,  0,  2],\n",
       "       [ 0,  1,  2,  1,  0,  2,  0,  0, 32,  2],\n",
       "       [ 0,  0,  0,  0,  0,  1,  0,  0,  0, 28]])"
      ]
     },
     "execution_count": 31,
     "metadata": {},
     "output_type": "execute_result"
    }
   ],
   "source": [
    "from sklearn.datasets import load_digits\n",
    "import matplotlib\n",
    "import matplotlib.pyplot as plt\n",
    "import numpy as np\n",
    "from sklearn.linear_model import SGDClassifier\n",
    "from sklearn.metrics import confusion_matrix\n",
    "\n",
    "digits=load_digits()\n",
    "# i=100\n",
    "# digit_1=digits.images[i]\n",
    "# target_1=digits.target[i]\n",
    "# plt.imshow(digit_1, cmap=matplotlib.cm.binary, interpolation=\"nearest\")\n",
    "# plt.axis(\"off\")\n",
    "# plt.show()\n",
    "# print(target_1)\n",
    "# print(digits.target_names.shape)\n",
    "n_samples=len(digits.data)\n",
    "ratio=0.2\n",
    "shuffle_indices=np.random.permutation(n_samples)\n",
    "n_train=shuffle_indices[:int(n_samples*(1-ratio))]\n",
    "n_test=shuffle_indices[int(n_samples*(1-ratio)):]\n",
    "# print(len(n_train), len(n_test))\n",
    "train_data=digits.data[n_train]\n",
    "train_target=digits.target[n_train]\n",
    "test_data=digits.data[n_test]\n",
    "test_target=digits.target[n_test]\n",
    "# print(len(train_data), len(test_data))\n",
    "sgd_clf=SGDClassifier(random_state=42)\n",
    "sgd_clf.fit(train_data, train_target)\n",
    "predicts=sgd_clf.predict(test_data)\n",
    "# print(predicts)\n",
    "confusion_matrix(test_target, predicts)\n"
   ]
  }
 ],
 "metadata": {
  "kernelspec": {
   "display_name": "Python 3",
   "language": "python",
   "name": "python3"
  },
  "language_info": {
   "codemirror_mode": {
    "name": "ipython",
    "version": 3
   },
   "file_extension": ".py",
   "mimetype": "text/x-python",
   "name": "python",
   "nbconvert_exporter": "python",
   "pygments_lexer": "ipython3",
   "version": "3.6.7"
  }
 },
 "nbformat": 4,
 "nbformat_minor": 2
}
