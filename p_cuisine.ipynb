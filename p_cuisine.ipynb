{
 "cells": [
  {
   "cell_type": "code",
   "execution_count": 1,
   "metadata": {},
   "outputs": [
    {
     "name": "stdout",
     "output_type": "stream",
     "text": [
      "<class 'pandas.core.frame.DataFrame'> (39774, 3)\n",
      "<class 'pandas.core.frame.DataFrame'> (9944, 2)\n"
     ]
    },
    {
     "data": {
      "text/html": [
       "<div>\n",
       "<style scoped>\n",
       "    .dataframe tbody tr th:only-of-type {\n",
       "        vertical-align: middle;\n",
       "    }\n",
       "\n",
       "    .dataframe tbody tr th {\n",
       "        vertical-align: top;\n",
       "    }\n",
       "\n",
       "    .dataframe thead th {\n",
       "        text-align: right;\n",
       "    }\n",
       "</style>\n",
       "<table border=\"1\" class=\"dataframe\">\n",
       "  <thead>\n",
       "    <tr style=\"text-align: right;\">\n",
       "      <th></th>\n",
       "      <th>cuisine</th>\n",
       "      <th>id</th>\n",
       "      <th>ingredients</th>\n",
       "    </tr>\n",
       "  </thead>\n",
       "  <tbody>\n",
       "    <tr>\n",
       "      <th>0</th>\n",
       "      <td>greek</td>\n",
       "      <td>10259</td>\n",
       "      <td>[romaine lettuce, black olives, grape tomatoes...</td>\n",
       "    </tr>\n",
       "    <tr>\n",
       "      <th>1</th>\n",
       "      <td>southern_us</td>\n",
       "      <td>25693</td>\n",
       "      <td>[plain flour, ground pepper, salt, tomatoes, g...</td>\n",
       "    </tr>\n",
       "    <tr>\n",
       "      <th>2</th>\n",
       "      <td>filipino</td>\n",
       "      <td>20130</td>\n",
       "      <td>[eggs, pepper, salt, mayonaise, cooking oil, g...</td>\n",
       "    </tr>\n",
       "    <tr>\n",
       "      <th>3</th>\n",
       "      <td>indian</td>\n",
       "      <td>22213</td>\n",
       "      <td>[water, vegetable oil, wheat, salt]</td>\n",
       "    </tr>\n",
       "    <tr>\n",
       "      <th>4</th>\n",
       "      <td>indian</td>\n",
       "      <td>13162</td>\n",
       "      <td>[black pepper, shallots, cornflour, cayenne pe...</td>\n",
       "    </tr>\n",
       "  </tbody>\n",
       "</table>\n",
       "</div>"
      ],
      "text/plain": [
       "       cuisine     id                                        ingredients\n",
       "0        greek  10259  [romaine lettuce, black olives, grape tomatoes...\n",
       "1  southern_us  25693  [plain flour, ground pepper, salt, tomatoes, g...\n",
       "2     filipino  20130  [eggs, pepper, salt, mayonaise, cooking oil, g...\n",
       "3       indian  22213                [water, vegetable oil, wheat, salt]\n",
       "4       indian  13162  [black pepper, shallots, cornflour, cayenne pe..."
      ]
     },
     "execution_count": 1,
     "metadata": {},
     "output_type": "execute_result"
    }
   ],
   "source": [
    "import json\n",
    "import xgboost as xgb\n",
    "import io\n",
    "import pandas as pd\n",
    "import numpy as np\n",
    "# f=open(\"data/cuisine/train.json\")\n",
    "# train=json.load(f)\n",
    "\n",
    "# f=open(\"data/cuisine/test.json\")\n",
    "# test=json.load(f)\n",
    "\n",
    "\n",
    "\n",
    "train=pd.read_json(\"data/cuisine/train.json\")\n",
    "test=pd.read_json(\"data/cuisine/test.json\")\n",
    "\n",
    "print(type(train), train.shape)\n",
    "print(type(test), test.shape)\n",
    "train.head()"
   ]
  },
  {
   "cell_type": "code",
   "execution_count": 79,
   "metadata": {},
   "outputs": [
    {
     "data": {
      "text/plain": [
       "pepper    25472\n",
       "salt      24419\n",
       "oil       23286\n",
       "garlic    18915\n",
       "ground    18248\n",
       "fresh     17850\n",
       "sauce     12834\n",
       "sugar     12480\n",
       "onions    12341\n",
       "cheese    11563\n",
       "dtype: int64"
      ]
     },
     "execution_count": 79,
     "metadata": {},
     "output_type": "execute_result"
    }
   ],
   "source": [
    "\n",
    "from nltk.corpus import stopwords\n",
    "import nltk\n",
    "import re\n",
    "s=[]\n",
    "for l in train['ingredients']:\n",
    "    s+= l\n",
    "str=''\n",
    "for ss in s:\n",
    "    str+=' '+ss\n",
    "tokens=str.split(' ') \n",
    "pd.Series(tokens).value_counts()[:10]\n",
    "# print(len(tokens))    \n"
   ]
  },
  {
   "cell_type": "code",
   "execution_count": 74,
   "metadata": {},
   "outputs": [
    {
     "name": "stdout",
     "output_type": "stream",
     "text": [
      "['downloading', 'package', 'stopwords', 'homehdnltk_data']\n"
     ]
    }
   ],
   "source": [
    "from nltk.corpus import stopwords\n",
    "import re\n",
    "pattern=re.compile('[^\\w\\s]')\n",
    "stopw=stopwords.words('english')\n",
    "text=\"Downloading package stopwords to /home/hd/nltk_data...\"\n",
    "tokens=text.split(' ')\n",
    "tokens=[tk.lower() for tk in tokens if tk not in stopw ]\n",
    "tokens=[pattern.sub('',tk) for tk in tokens ]\n",
    "# x=tokens[3]\n",
    "# print(type(x))\n",
    "# x=x.replace('h','w')\n",
    "print(tokens)\n",
    "# train['word_count']=train['ingredients'].apply(lambda x: )\n",
    "# train.loc(train['cuisine']=='greek')\n",
    "# print(test['ingredients'])\n",
    "# print(train[0:20])\n",
    "\n"
   ]
  }
 ],
 "metadata": {
  "kernelspec": {
   "display_name": "Python 3",
   "language": "python",
   "name": "python3"
  },
  "language_info": {
   "codemirror_mode": {
    "name": "ipython",
    "version": 3
   },
   "file_extension": ".py",
   "mimetype": "text/x-python",
   "name": "python",
   "nbconvert_exporter": "python",
   "pygments_lexer": "ipython3",
   "version": "3.6.7"
  }
 },
 "nbformat": 4,
 "nbformat_minor": 2
}
